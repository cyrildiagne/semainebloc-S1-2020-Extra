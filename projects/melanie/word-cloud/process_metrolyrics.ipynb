{
 "cells": [
  {
   "cell_type": "code",
   "execution_count": 39,
   "metadata": {},
   "outputs": [
    {
     "data": {
      "text/plain": [
       "408"
      ]
     },
     "execution_count": 39,
     "metadata": {},
     "output_type": "execute_result"
    }
   ],
   "source": [
    "import requests\n",
    "import pandas as pd\n",
    "import io\n",
    "\n",
    "df = pd.read_csv('lyrics.csv')\n",
    "\n",
    "# Filter the dataset to HipHop genre.\n",
    "#hiphop = df.loc[df['genre'] == 'Hip-Hop']\n",
    "lyrics = df.lyrics.astype(str)\n",
    "\n",
    "# Write to txt file which will be used as input parameter for GPT-2 finetuning.\n",
    "with open('all.txt', 'w') as f:\n",
    "  f.write('\\n'.join(lyrics))"
   ]
  },
  {
   "cell_type": "code",
   "execution_count": 41,
   "metadata": {},
   "outputs": [
    {
     "data": {
      "text/plain": [
       "5784050"
      ]
     },
     "execution_count": 41,
     "metadata": {},
     "output_type": "execute_result"
    }
   ],
   "source": [
    "with open('all.txt') as f:\n",
    "    data = f.read().split('\\n')\n",
    "dataset = list(set(data))\n",
    "len(dataset)"
   ]
  },
  {
   "cell_type": "code",
   "execution_count": 43,
   "metadata": {},
   "outputs": [],
   "source": [
    "with open('unique.txt', 'w') as f:\n",
    "    f.write('\\n'.join(dataset))"
   ]
  },
  {
   "cell_type": "code",
   "execution_count": 44,
   "metadata": {},
   "outputs": [],
   "source": [
    "with open('unique.txt') as f:\n",
    "    dataset = f.read().split('\\n')"
   ]
  },
  {
   "cell_type": "code",
   "execution_count": 74,
   "metadata": {},
   "outputs": [
    {
     "name": "stdout",
     "output_type": "stream",
     "text": [
      "0\n",
      "1000000\n",
      "2000000\n",
      "3000000\n",
      "4000000\n",
      "5000000\n"
     ]
    }
   ],
   "source": [
    "import re\n",
    "import json\n",
    "import random\n",
    "\n",
    "lines_dict = {}\n",
    "\n",
    "for i, line in enumerate(dataset):\n",
    "    if i % 1e6 == 0:\n",
    "        print(i)\n",
    "    if len(line) == 0:\n",
    "        continue\n",
    "    line = line[:-1] + re.sub('[^A-Za-z0-9]+', '', line[-1])\n",
    "    word = line.split(' ')[-1]\n",
    "    if word not in lines_dict:\n",
    "        lines_dict[word] = []\n",
    "    lines_dict[word].append(i)"
   ]
  },
  {
   "cell_type": "code",
   "execution_count": 69,
   "metadata": {},
   "outputs": [
    {
     "name": "stdout",
     "output_type": "stream",
     "text": [
      "['cat', 'at', 'cut', 'caveat', 'nut', 'hat', 'rat', 'bat', 'but', 'flat', 'what', 'butt', 'mat', 'fat', 'chat', 'shut', 'pat', 'gut', 'undercut', 'strut', 'abut', 'scat', 'rut', 'format', 'combat']\n"
     ]
    },
    {
     "data": {
      "text/plain": [
       "'Harlem buzzing the fat'"
      ]
     },
     "execution_count": 69,
     "metadata": {},
     "output_type": "execute_result"
    }
   ],
   "source": [
    "user_word = 'that'\n",
    "\n",
    "res = requests.get('https://api.datamuse.com/words?rel_rhy=' + user_word + '&max=25')\n",
    "res = json.loads(res.content)\n",
    "res = [r['word'] for r in res]\n",
    "\n",
    "def get_rhyme(result):\n",
    "    word = random.choice(result)\n",
    "    if word not in lines_dict:\n",
    "        result.remove(word)\n",
    "        if len(result) > 0:\n",
    "            return get_rhyme(result)    \n",
    "        else:\n",
    "            return ''\n",
    "    item_id = random.choice(lines_dict[word])\n",
    "    return dataset[item_id]\n",
    "\n",
    "get_rhyme(res)"
   ]
  },
  {
   "cell_type": "code",
   "execution_count": null,
   "metadata": {},
   "outputs": [],
   "source": []
  }
 ],
 "metadata": {
  "kernelspec": {
   "display_name": "Python 3",
   "language": "python",
   "name": "python3"
  },
  "language_info": {
   "codemirror_mode": {
    "name": "ipython",
    "version": 3
   },
   "file_extension": ".py",
   "mimetype": "text/x-python",
   "name": "python",
   "nbconvert_exporter": "python",
   "pygments_lexer": "ipython3",
   "version": "3.7.5"
  }
 },
 "nbformat": 4,
 "nbformat_minor": 2
}
